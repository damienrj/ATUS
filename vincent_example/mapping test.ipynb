{
 "metadata": {
  "name": "",
  "signature": "sha256:3e2d54b457dd7fdf17291b4ab0c2e55498d15bb3a29b597b8dea70011f0e47df"
 },
 "nbformat": 3,
 "nbformat_minor": 0,
 "worksheets": [
  {
   "cells": [
    {
     "cell_type": "code",
     "collapsed": false,
     "input": [
      "import vincent\n",
      "vincent.initialize_notebook()\n",
      "world_topo = r'vincent_map_data/world-countries.topo.json'\n",
      "geo_data = [{'name': 'countries',\n",
      "             'url': world_topo,\n",
      "             'feature': 'world-countries'}]\n",
      "\n",
      "vis = vincent.Map(geo_data=geo_data, scale=200)\n",
      "vis.to_json('vega.json')\n",
      "vis.display()\n"
     ],
     "language": "python",
     "metadata": {},
     "outputs": [
      {
       "html": [
        "\n",
        "           <script>\n",
        "               \n",
        "                function vct_load_lib(url, callback){\n",
        "                      if(typeof d3 !== 'undefined' &&\n",
        "                         url === 'http://d3js.org/d3.v3.min.js'){\n",
        "                        callback()\n",
        "                      }\n",
        "                      var s = document.createElement('script');\n",
        "                      s.src = url;\n",
        "                      s.async = true;\n",
        "                      s.onreadystatechange = s.onload = callback;\n",
        "                      s.onerror = function(){\n",
        "                        console.warn(\"failed to load library \" + url);\n",
        "                        };\n",
        "                      document.getElementsByTagName(\"head\")[0].appendChild(s);\n",
        "                };\n",
        "                var vincent_event = new CustomEvent(\n",
        "                  \"vincent_libs_loaded\",\n",
        "                  {bubbles: true, cancelable: true}\n",
        "                );\n",
        "                \n",
        "               function load_all_libs(){\n",
        "                  console.log('Loading Vincent libs...')\n",
        "                  vct_load_lib('http://d3js.org/d3.v3.min.js', function(){\n",
        "                  vct_load_lib('http://d3js.org/d3.geo.projection.v0.min.js', function(){\n",
        "                  vct_load_lib('http://wrobstory.github.io/d3-cloud/d3.layout.cloud.js', function(){\n",
        "                  vct_load_lib('http://wrobstory.github.io/vega/vega.v1.3.3.js', function(){\n",
        "                  window.dispatchEvent(vincent_event);\n",
        "                  });\n",
        "                  });\n",
        "                  });\n",
        "                  });\n",
        "               };\n",
        "               if(typeof define === \"function\" && define.amd){\n",
        "                    if (window['d3'] === undefined ||\n",
        "                        window['topojson'] === undefined){\n",
        "                        require.config(\n",
        "                            {paths: {\n",
        "                              d3: 'http://d3js.org/d3.v3.min',\n",
        "                              topojson: 'http://d3js.org/topojson.v1.min'\n",
        "                              }\n",
        "                            }\n",
        "                          );\n",
        "                        require([\"d3\"], function(d3){\n",
        "                            console.log('Loading Vincent from require.js...')\n",
        "                            window.d3 = d3;\n",
        "                            require([\"topojson\"], function(topojson){\n",
        "                                window.topojson = topojson;\n",
        "                                load_all_libs();\n",
        "                            });\n",
        "                        });\n",
        "                    } else {\n",
        "                        load_all_libs();\n",
        "                    };\n",
        "               }else{\n",
        "                    console.log('Require.js not found, loading manually...')\n",
        "                    load_all_libs();\n",
        "               };\n",
        "\n",
        "           </script>"
       ],
       "metadata": {},
       "output_type": "display_data",
       "text": [
        "<IPython.core.display.HTML at 0x3798a90>"
       ]
      },
      {
       "html": [
        "<div id=\"vis4ea595200d914950a550b0bfb75be2e2\"></div>\n",
        "<script>\n",
        "   ( function() {\n",
        "     var _do_plot = function() {\n",
        "       if (typeof vg === 'undefined') {\n",
        "         window.addEventListener('vincent_libs_loaded', _do_plot)\n",
        "         return;\n",
        "       }\n",
        "       vg.parse.spec({\"axes\": [], \"data\": [{\"format\": {\"feature\": \"world-countries\", \"type\": \"topojson\"}, \"name\": \"countries\", \"transform\": [{\"projection\": \"winkel3\", \"scale\": 200, \"translate\": [480, 250], \"type\": \"geopath\", \"value\": \"data\"}], \"url\": \"vincent_map_data/world-countries.topo.json\"}], \"height\": 500, \"legends\": [], \"marks\": [{\"from\": {\"data\": \"countries\"}, \"properties\": {\"enter\": {\"path\": {\"field\": \"path\"}, \"stroke\": {\"value\": \"#000000\"}}, \"update\": {\"fill\": {\"value\": \"steelblue\"}}}, \"type\": \"path\"}], \"padding\": \"auto\", \"scales\": [], \"width\": 960}, function(chart) {\n",
        "         chart({el: \"#vis4ea595200d914950a550b0bfb75be2e2\"}).update();\n",
        "       });\n",
        "     };\n",
        "     _do_plot();\n",
        "   })();\n",
        "</script>\n",
        "<style>.vega canvas {width: 100%;}</style>\n",
        "        "
       ],
       "metadata": {},
       "output_type": "display_data",
       "text": [
        "<IPython.core.display.HTML at 0x9f2fc88>"
       ]
      }
     ],
     "prompt_number": 1
    },
    {
     "cell_type": "code",
     "collapsed": false,
     "input": [
      "#Map Data Binding\n",
      "import json\n",
      "import pandas as pd\n",
      "#Map the county codes we have in our geometry to those in the\n",
      "#county_data file, which contains additional rows we don't need\n",
      "with open('vincent_map_data/us_counties.topo.json', 'r') as f:\n",
      "    get_id = json.load(f)\n",
      "\n",
      "#A little FIPS code munging\n",
      "new_geoms = []\n",
      "for geom in get_id['objects']['us_counties.geo']['geometries']:\n",
      "    geom['properties']['FIPS'] = int(geom['properties']['FIPS'])\n",
      "    new_geoms.append(geom)\n",
      "\n",
      "get_id['objects']['us_counties.geo']['geometries'] = new_geoms\n",
      "\n",
      "with open('vincent_map_data/us_counties.topo.json', 'w') as f:\n",
      "    json.dump(get_id, f)\n",
      "\n",
      "#Grab the FIPS codes and load them into a dataframe\n",
      "geometries = get_id['objects']['us_counties.geo']['geometries']\n",
      "county_codes = [x['properties']['FIPS'] for x in geometries]\n",
      "county_df = pd.DataFrame({'FIPS': county_codes}, dtype=str)\n",
      "county_df = county_df.astype(int)\n",
      "\n",
      "#Read into Dataframe, cast to string for consistency\n",
      "df = pd.read_csv('vincent_data_misc/us_county_data.csv', na_values=[' '])\n",
      "df['FIPS_Code'] = df['FIPS'].astype(str)\n",
      "\n",
      "#Perform an inner join, pad NA's with data from nearest county\n",
      "merged = pd.merge(df, county_df, on='FIPS', how='inner')\n",
      "merged = merged.fillna(method='pad')\n",
      "\n",
      "\n"
     ],
     "language": "python",
     "metadata": {},
     "outputs": [],
     "prompt_number": 2
    },
    {
     "cell_type": "code",
     "collapsed": false,
     "input": [
      "county_topo = 'vincent_map_data/us_counties.topo.json'\n",
      "state_topo = 'vincent_map_data/us_states.topo.json'\n",
      "geo_data = [{'name': 'counties',\n",
      "             'url': county_topo,\n",
      "             'feature': 'us_counties.geo'},\n",
      "            {'name': 'states',\n",
      "             'url': state_topo,\n",
      "             'feature': 'us_states.geo'}]\n",
      "\n",
      "vis = vincent.Map(geo_data=geo_data, scale=1000, projection='albersUsa')\n",
      "del vis.marks[1].properties.update\n",
      "vis.marks[0].properties.update.fill.value = '#084081'\n",
      "vis.marks[1].properties.enter.stroke.value = '#fff'\n",
      "vis.marks[0].properties.enter.stroke.value = '#7bccc4'\n",
      "vis.display()"
     ],
     "language": "python",
     "metadata": {},
     "outputs": [
      {
       "html": [
        "<div id=\"vis993571631a66422d91671ca61afdfd15\"></div>\n",
        "<script>\n",
        "   ( function() {\n",
        "     var _do_plot = function() {\n",
        "       if (typeof vg === 'undefined') {\n",
        "         window.addEventListener('vincent_libs_loaded', _do_plot)\n",
        "         return;\n",
        "       }\n",
        "       vg.parse.spec({\"axes\": [], \"data\": [{\"format\": {\"feature\": \"us_counties.geo\", \"type\": \"topojson\"}, \"name\": \"counties\", \"transform\": [{\"projection\": \"albersUsa\", \"scale\": 1000, \"translate\": [480, 250], \"type\": \"geopath\", \"value\": \"data\"}], \"url\": \"vincent_map_data/us_counties.topo.json\"}, {\"format\": {\"feature\": \"us_states.geo\", \"type\": \"topojson\"}, \"name\": \"states\", \"transform\": [{\"projection\": \"albersUsa\", \"scale\": 1000, \"translate\": [480, 250], \"type\": \"geopath\", \"value\": \"data\"}], \"url\": \"vincent_map_data/us_states.topo.json\"}], \"height\": 500, \"legends\": [], \"marks\": [{\"from\": {\"data\": \"counties\"}, \"properties\": {\"enter\": {\"path\": {\"field\": \"path\"}, \"stroke\": {\"value\": \"#7bccc4\"}}, \"update\": {\"fill\": {\"value\": \"#084081\"}}}, \"type\": \"path\"}, {\"from\": {\"data\": \"states\"}, \"properties\": {\"enter\": {\"path\": {\"field\": \"path\"}, \"stroke\": {\"value\": \"#fff\"}}}, \"type\": \"path\"}], \"padding\": \"auto\", \"scales\": [], \"width\": 960}, function(chart) {\n",
        "         chart({el: \"#vis993571631a66422d91671ca61afdfd15\"}).update();\n",
        "       });\n",
        "     };\n",
        "     _do_plot();\n",
        "   })();\n",
        "</script>\n",
        "<style>.vega canvas {width: 100%;}</style>\n",
        "        "
       ],
       "metadata": {},
       "output_type": "display_data",
       "text": [
        "<IPython.core.display.HTML at 0x376deb8>"
       ]
      }
     ],
     "prompt_number": 3
    },
    {
     "cell_type": "code",
     "collapsed": false,
     "input": [],
     "language": "python",
     "metadata": {},
     "outputs": []
    }
   ],
   "metadata": {}
  }
 ]
}