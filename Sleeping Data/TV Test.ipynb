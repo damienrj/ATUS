{
 "cells": [
  {
   "cell_type": "code",
   "execution_count": 7,
   "metadata": {
    "collapsed": false
   },
   "outputs": [],
   "source": [
    "import pandas as pd\n",
    "import numpy as np\n",
    "import matplotlib.pyplot as plt\n",
    "plt.style.use('ggplot')\n",
    "#Set the display precision\n",
    "pd.set_option('precision', 4)"
   ]
  },
  {
   "cell_type": "code",
   "execution_count": 8,
   "metadata": {
    "collapsed": false
   },
   "outputs": [],
   "source": [
    "df = pd.DataFrame.from_csv('atus_00007.csv')\n",
    "df['weighted_TV']=df.BLS_LEIS_TV * df.WT06\n"
   ]
  },
  {
   "cell_type": "code",
   "execution_count": 14,
   "metadata": {
    "collapsed": false
   },
   "outputs": [],
   "source": [
    "#Calculated weighted averages on grouped data\n",
    "def wavg(group, name):\n",
    "    d = group['BLS_LEIS_TV']\n",
    "    w = group[name]\n",
    "    return (d * w).sum() / w.sum()\n"
   ]
  },
  {
   "cell_type": "code",
   "execution_count": 23,
   "metadata": {
    "collapsed": false
   },
   "outputs": [],
   "source": [
    "#This section groups the data by year as a control\n",
    "grouped = df.groupby(['YEAR'] )\n",
    "\n",
    "meanData = grouped.apply(wavg, 'WT06')\n"
   ]
  },
  {
   "cell_type": "code",
   "execution_count": 18,
   "metadata": {
    "collapsed": false
   },
   "outputs": [],
   "source": [
    "#Error calulation using replicate weights, need to use all 160 different sets of data weights\n",
    "#Find the correct columns\n",
    "column_names = df.columns.values\n",
    "indices = [i for i, s in enumerate(column_names) if 'RWT06_' in s]\n",
    "column_names = column_names[indices]"
   ]
  },
  {
   "cell_type": "code",
   "execution_count": 24,
   "metadata": {
    "collapsed": false
   },
   "outputs": [],
   "source": [
    "data = []\n",
    "for name in column_names:\n",
    "     data.append((grouped.apply(wavg, name)-meanData)**2)\n",
    "\n",
    "error = np.sqrt(sum(data)*(4./160))/60\n"
   ]
  },
  {
   "cell_type": "code",
   "execution_count": 49,
   "metadata": {
    "collapsed": false,
    "scrolled": true
   },
   "outputs": [
    {
     "name": "stdout",
     "output_type": "stream",
     "text": [
      "Mean: 157.394754 Error: 0.029485391123 \n"
     ]
    }
   ],
   "source": [
    "readout = \"Mean: %f Error: %s \" % (meanData.iloc[0], error.iloc[0])\n",
    "\n",
    "print(readout)"
   ]
  },
  {
   "cell_type": "markdown",
   "metadata": {},
   "source": [
    "These valuses match the values given in the atususersguide on pages 40-41, and are a mean of 157.395, and an error of .0293."
   ]
  },
  {
   "cell_type": "code",
   "execution_count": null,
   "metadata": {
    "collapsed": true
   },
   "outputs": [],
   "source": []
  }
 ],
 "metadata": {
  "kernelspec": {
   "display_name": "Python 2",
   "language": "python",
   "name": "python2"
  },
  "language_info": {
   "codemirror_mode": {
    "name": "ipython",
    "version": 2
   },
   "file_extension": ".py",
   "mimetype": "text/x-python",
   "name": "python",
   "nbconvert_exporter": "python",
   "pygments_lexer": "ipython2",
   "version": "2.7.9"
  }
 },
 "nbformat": 4,
 "nbformat_minor": 0
}
