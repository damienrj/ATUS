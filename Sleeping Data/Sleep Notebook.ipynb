{
 "metadata": {
  "name": "",
  "signature": "sha256:57557c9e712ed3907dfaeb6b812c8e7841ed23b81775860b1102704f032cea86"
 },
 "nbformat": 3,
 "nbformat_minor": 0,
 "worksheets": [
  {
   "cells": [
    {
     "cell_type": "code",
     "collapsed": false,
     "input": [
      "import pandas as pd\n",
      "import numpy as np"
     ],
     "language": "python",
     "metadata": {},
     "outputs": [],
     "prompt_number": 32
    },
    {
     "cell_type": "code",
     "collapsed": false,
     "input": [
      "df = pd.DataFrame.from_csv('atus_00002.csv')"
     ],
     "language": "python",
     "metadata": {},
     "outputs": [],
     "prompt_number": 2
    },
    {
     "cell_type": "code",
     "collapsed": false,
     "input": [
      "state_group = df.groupby(['YEAR', 'STATEFIP'])\n",
      "\n",
      "results_state = state_group.BLS_PCARE_SLEEP.agg([np.mean, np.std])\n",
      "print(results_state.loc[2005][0:5])\n",
      "\n",
      "metro_group = df.groupby(['YEAR', 'METAREA'])\n",
      "results_metro = metro_group.BLS_PCARE_SLEEP.agg([np.mean, np.std])\n",
      "print(results_metro.loc[2005][0:5])\n",
      "\n"
     ],
     "language": "python",
     "metadata": {},
     "outputs": [
      {
       "output_type": "stream",
       "stream": "stdout",
       "text": [
        "                mean         std\n",
        "STATEFIP                        \n",
        "1         533.086580  140.305168\n",
        "2         584.548387  121.041546\n",
        "4         522.020747  149.989429\n",
        "5         531.346939  125.180618\n",
        "6         539.939728  135.466408\n",
        "               mean         std\n",
        "METAREA                        \n",
        "0        524.483660  135.589685\n",
        "460      653.000000  242.682921\n",
        "1121     512.828358  127.540522\n",
        "1160     569.166667  127.240526\n",
        "1601     528.012136  132.721457\n"
       ]
      }
     ],
     "prompt_number": 61
    },
    {
     "cell_type": "code",
     "collapsed": false,
     "input": [],
     "language": "python",
     "metadata": {},
     "outputs": []
    }
   ],
   "metadata": {}
  }
 ]
}