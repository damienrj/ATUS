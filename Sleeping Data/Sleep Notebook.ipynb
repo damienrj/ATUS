{
 "metadata": {
  "name": "",
  "signature": "sha256:8a9e3d5ed1c65857c65b376190f41d112ad09d2f7a10d7c0b827c965862583d3"
 },
 "nbformat": 3,
 "nbformat_minor": 0,
 "worksheets": [
  {
   "cells": [
    {
     "cell_type": "code",
     "collapsed": false,
     "input": [
      "import pandas as pd\n",
      "import numpy as np\n",
      "%matplotlib inline"
     ],
     "language": "python",
     "metadata": {},
     "outputs": [],
     "prompt_number": 2
    },
    {
     "cell_type": "code",
     "collapsed": false,
     "input": [
      "df = pd.DataFrame.from_csv('atus_00002.csv')"
     ],
     "language": "python",
     "metadata": {},
     "outputs": [],
     "prompt_number": 3
    },
    {
     "cell_type": "code",
     "collapsed": false,
     "input": [
      "state_group = df.groupby(['YEAR', 'STATEFIP'])\n",
      "\n",
      "results_state = state_group.BLS_PCARE_SLEEP.agg([np.mean, np.std])\n",
      "print(results_state.loc[2005][0:5])\n",
      "\n",
      "metro_group = df.groupby(['YEAR', 'METAREA'])\n",
      "results_metro = metro_group.BLS_PCARE_SLEEP.agg([np.mean, np.std])\n",
      "print(results_metro.loc[2005][0:5])\n",
      "\n"
     ],
     "language": "python",
     "metadata": {},
     "outputs": [
      {
       "output_type": "stream",
       "stream": "stdout",
       "text": [
        "                mean         std\n",
        "STATEFIP                        \n",
        "1         533.086580  140.305168\n",
        "2         584.548387  121.041546\n",
        "4         522.020747  149.989429\n",
        "5         531.346939  125.180618\n",
        "6         539.939728  135.466408\n",
        "               mean         std\n",
        "METAREA                        \n",
        "0        524.483660  135.589685\n",
        "460      653.000000  242.682921\n",
        "1121     512.828358  127.540522\n",
        "1160     569.166667  127.240526\n",
        "1601     528.012136  132.721457\n"
       ]
      }
     ],
     "prompt_number": 26
    },
    {
     "cell_type": "code",
     "collapsed": false,
     "input": [
      "scaled = results_state.loc[2006]['mean']\n",
      "nation_mean = np.mean(scaled)\n",
      "nation_std = np.std(scaled)\n",
      "\n",
      "scaled = (scaled - nation_mean)/nation_std\n",
      "print(nation_mean, nation_std)\n",
      "scaled\n"
     ],
     "language": "python",
     "metadata": {},
     "outputs": [
      {
       "output_type": "stream",
       "stream": "stdout",
       "text": [
        "(528.54107657524628, 14.072789833859755)\n"
       ]
      },
      {
       "metadata": {},
       "output_type": "pyout",
       "prompt_number": 33,
       "text": [
        "STATEFIP\n",
        "1           0.510919\n",
        "2           2.079113\n",
        "4          -0.539491\n",
        "5           0.250389\n",
        "6           1.077884\n",
        "8          -0.649189\n",
        "9           1.117350\n",
        "10          0.427616\n",
        "11          0.234419\n",
        "12         -0.599474\n",
        "13          1.035440\n",
        "15          0.079445\n",
        "16         -0.268748\n",
        "17         -1.242221\n",
        "18          0.008672\n",
        "19         -0.734033\n",
        "20         -1.553482\n",
        "21         -0.748363\n",
        "22          0.250413\n",
        "23          1.199356\n",
        "24          0.261995\n",
        "25         -1.052937\n",
        "26         -0.418776\n",
        "27         -1.027065\n",
        "28          0.197196\n",
        "29         -0.378053\n",
        "30          1.004303\n",
        "31          0.015029\n",
        "32          0.307776\n",
        "33          0.891145\n",
        "34         -0.604960\n",
        "35          0.472500\n",
        "36         -1.107932\n",
        "37          0.150152\n",
        "38         -0.506603\n",
        "39         -0.505103\n",
        "40         -0.019847\n",
        "41          0.031471\n",
        "42         -1.124368\n",
        "44         -2.415968\n",
        "45          0.839182\n",
        "46          1.586437\n",
        "47          1.147463\n",
        "48          0.706423\n",
        "49         -1.323152\n",
        "50          0.048853\n",
        "51         -0.375430\n",
        "53         -1.220737\n",
        "54         -0.907835\n",
        "55         -0.033470\n",
        "56          3.426296\n",
        "Name: mean, Length: 51, dtype: float64"
       ]
      }
     ],
     "prompt_number": 33
    },
    {
     "cell_type": "code",
     "collapsed": false,
     "input": [],
     "language": "python",
     "metadata": {},
     "outputs": []
    }
   ],
   "metadata": {}
  }
 ]
}