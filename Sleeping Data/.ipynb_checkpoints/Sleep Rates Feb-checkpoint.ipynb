{
 "metadata": {
  "name": "",
  "signature": "sha256:59b0bf331d4feaec0c9251b3082729fc2197ea4e8f5dbf2eb43da195c6cffdcd"
 },
 "nbformat": 3,
 "nbformat_minor": 0,
 "worksheets": [
  {
   "cells": [
    {
     "cell_type": "code",
     "collapsed": false,
     "input": [
      "import pandas as pd\n",
      "import numpy as np\n",
      "import matplotlib.pyplot as plt\n",
      "plt.style.use('ggplot')\n",
      "#Set the display precision\n",
      "pd.set_option('precision', 4)"
     ],
     "language": "python",
     "metadata": {},
     "outputs": [],
     "prompt_number": 1
    },
    {
     "cell_type": "code",
     "collapsed": false,
     "input": [
      "df = pd.DataFrame.from_csv('atus_00005.csv')\n",
      "df['weighted_sleep']=df.BLS_PCARE_SLEEP * df.WT06\n",
      "df.EMPSTAT.astype('category')\n",
      "df['SEX'] = df['SEX'].replace([1, 2], ['Male', 'Female'])\n",
      "df.SEX.astype('category')\n",
      "df.AGE = pd.cut(df.AGE, [15, 20, 25, 35, 45, 55, 65, 90], right = 'False')"
     ],
     "language": "python",
     "metadata": {},
     "outputs": [],
     "prompt_number": 2
    },
    {
     "cell_type": "code",
     "collapsed": false,
     "input": [
      "#Load the state names\n",
      "num,name = np.loadtxt('state_id.txt',unpack=True,dtype=str,delimiter=',')\n",
      "\n",
      "# replace with state names\n",
      "df['STATEFIP'] = df['STATEFIP'].replace(num.astype(np.int64), name)"
     ],
     "language": "python",
     "metadata": {},
     "outputs": [],
     "prompt_number": 3
    },
    {
     "cell_type": "code",
     "collapsed": false,
     "input": [
      "#Calculated weighted averages on grouped data\n",
      "def wavg(group, name):\n",
      "    d = group['BLS_PCARE_SLEEP']\n",
      "    w = group[name]\n",
      "    return (d * w).sum() / w.sum()\n"
     ],
     "language": "python",
     "metadata": {},
     "outputs": [],
     "prompt_number": 4
    },
    {
     "cell_type": "code",
     "collapsed": false,
     "input": [
      "#This section groups the data by metro area\n",
      "grouped = df.groupby(['YEAR', 'METAREA', 'SEX' ] )\n"
     ],
     "language": "python",
     "metadata": {},
     "outputs": [],
     "prompt_number": 5
    },
    {
     "cell_type": "code",
     "collapsed": false,
     "input": [
      "#Error calulation using replicate weights, need to use all 160 different sets of data weights\n",
      "#Find the correct columns\n",
      "column_names = df.columns.values\n",
      "indices = [i for i, s in enumerate(column_names) if 'RWT06_' in s]\n",
      "column_names = column_names[indices]"
     ],
     "language": "python",
     "metadata": {},
     "outputs": [],
     "prompt_number": 6
    },
    {
     "cell_type": "code",
     "collapsed": false,
     "input": [
      "meanData = grouped.apply(wavg, 'WT06')\n",
      "data = []\n",
      "for name in column_names:\n",
      "     data.append((grouped.apply(wavg, name)-meanData)**2)\n",
      "\n",
      "error = np.sqrt(sum(data)*(4./160))/60"
     ],
     "language": "python",
     "metadata": {},
     "outputs": [],
     "prompt_number": 7
    },
    {
     "cell_type": "code",
     "collapsed": false,
     "input": [
      "meanData.head()\n"
     ],
     "language": "python",
     "metadata": {},
     "outputs": [
      {
       "metadata": {},
       "output_type": "pyout",
       "prompt_number": 8,
       "text": [
        "YEAR  METAREA  SEX   \n",
        "2005  0        Female    522.270\n",
        "               Male      511.201\n",
        "      460      Female    537.926\n",
        "               Male      686.769\n",
        "      1121     Female    481.474\n",
        "dtype: float64"
       ]
      }
     ],
     "prompt_number": 8
    },
    {
     "cell_type": "code",
     "collapsed": false,
     "input": [
      "error.head()"
     ],
     "language": "python",
     "metadata": {},
     "outputs": [
      {
       "metadata": {},
       "output_type": "pyout",
       "prompt_number": 9,
       "text": [
        "YEAR  METAREA  SEX   \n",
        "2005  0        Female    0.034\n",
        "               Male      0.046\n",
        "      460      Female    0.114\n",
        "               Male      3.786\n",
        "      1121     Female    0.192\n",
        "dtype: float64"
       ]
      }
     ],
     "prompt_number": 9
    },
    {
     "cell_type": "code",
     "collapsed": false,
     "input": [],
     "language": "python",
     "metadata": {},
     "outputs": [],
     "prompt_number": 9
    }
   ],
   "metadata": {}
  }
 ]
}