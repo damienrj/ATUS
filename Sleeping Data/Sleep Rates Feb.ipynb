{
 "cells": [
  {
   "cell_type": "code",
   "execution_count": 1,
   "metadata": {
    "collapsed": false
   },
   "outputs": [],
   "source": [
    "import pandas as pd\n",
    "import numpy as np\n",
    "import matplotlib.pyplot as plt\n",
    "plt.style.use('ggplot')\n",
    "#Set the display precision\n",
    "pd.set_option('precision', 4)"
   ]
  },
  {
   "cell_type": "code",
   "execution_count": 2,
   "metadata": {
    "collapsed": false
   },
   "outputs": [],
   "source": [
    "df = pd.DataFrame.from_csv('atus_00005.csv')\n",
    "df['weighted_sleep']=df.BLS_PCARE_SLEEP * df.WT06\n",
    "df.EMPSTAT.astype('category')\n",
    "df['SEX'] = df['SEX'].replace([1, 2], ['Male', 'Female'])\n",
    "df.SEX.astype('category')\n",
    "df.AGE = pd.cut(df.AGE, [15, 20, 25, 35, 45, 55, 65, 90], right = 'False')"
   ]
  },
  {
   "cell_type": "code",
   "execution_count": 3,
   "metadata": {
    "collapsed": false
   },
   "outputs": [],
   "source": [
    "#Load the state names\n",
    "num,name = np.loadtxt('state_id.txt',unpack=True,dtype=str,delimiter=',')\n",
    "\n",
    "# replace with state names\n",
    "df['STATEFIP'] = df['STATEFIP'].replace(num.astype(np.int64), name)"
   ]
  },
  {
   "cell_type": "code",
   "execution_count": 4,
   "metadata": {
    "collapsed": false
   },
   "outputs": [],
   "source": [
    "#Calculated weighted averages on grouped data\n",
    "def wavg(group, name):\n",
    "    d = group['BLS_PCARE_SLEEP']\n",
    "    w = group[name]\n",
    "    return (d * w).sum() / w.sum()\n"
   ]
  },
  {
   "cell_type": "code",
   "execution_count": 5,
   "metadata": {
    "collapsed": false
   },
   "outputs": [],
   "source": [
    "#This section groups the data by metro area\n",
    "grouped = df.groupby(['YEAR', 'METAREA', 'SEX' ] )\n"
   ]
  },
  {
   "cell_type": "code",
   "execution_count": 6,
   "metadata": {
    "collapsed": false
   },
   "outputs": [],
   "source": [
    "#Error calulation using replicate weights, need to use all 160 different sets of data weights\n",
    "#Find the correct columns\n",
    "column_names = df.columns.values\n",
    "indices = [i for i, s in enumerate(column_names) if 'RWT06_' in s]\n",
    "column_names = column_names[indices]"
   ]
  },
  {
   "cell_type": "code",
   "execution_count": 7,
   "metadata": {
    "collapsed": false
   },
   "outputs": [],
   "source": [
    "meanData = grouped.apply(wavg, 'WT06')\n",
    "data = []\n",
    "for name in column_names:\n",
    "     data.append((grouped.apply(wavg, name)-meanData)**2)\n",
    "\n",
    "error = np.sqrt(sum(data)*(4./160))/60"
   ]
  },
  {
   "cell_type": "code",
   "execution_count": 8,
   "metadata": {
    "collapsed": false
   },
   "outputs": [
    {
     "data": {
      "text/plain": [
       "YEAR  METAREA  SEX   \n",
       "2005  0        Female    522.270\n",
       "               Male      511.201\n",
       "      460      Female    537.926\n",
       "               Male      686.769\n",
       "      1121     Female    481.474\n",
       "dtype: float64"
      ]
     },
     "execution_count": 8,
     "metadata": {},
     "output_type": "execute_result"
    }
   ],
   "source": [
    "meanData.head()\n"
   ]
  },
  {
   "cell_type": "code",
   "execution_count": 9,
   "metadata": {
    "collapsed": false
   },
   "outputs": [
    {
     "data": {
      "text/plain": [
       "YEAR  METAREA  SEX   \n",
       "2005  0        Female    0.034\n",
       "               Male      0.046\n",
       "      460      Female    0.114\n",
       "               Male      3.786\n",
       "      1121     Female    0.192\n",
       "dtype: float64"
      ]
     },
     "execution_count": 9,
     "metadata": {},
     "output_type": "execute_result"
    }
   ],
   "source": [
    "error.head()"
   ]
  },
  {
   "cell_type": "code",
   "execution_count": 9,
   "metadata": {
    "collapsed": false
   },
   "outputs": [],
   "source": []
  }
 ],
 "metadata": {
  "kernelspec": {
   "display_name": "Python 2",
   "language": "python",
   "name": "python2"
  },
  "language_info": {
   "codemirror_mode": {
    "name": "ipython",
    "version": 2
   },
   "file_extension": ".py",
   "mimetype": "text/x-python",
   "name": "python",
   "nbconvert_exporter": "python",
   "pygments_lexer": "ipython2",
   "version": "2.7.9"
  }
 },
 "nbformat": 4,
 "nbformat_minor": 0
}
